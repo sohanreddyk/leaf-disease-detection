{
 "cells": [
  {
   "cell_type": "code",
   "execution_count": 10,
   "id": "47c994d1-86bd-4dec-aeb9-0dbaf2b38e67",
   "metadata": {},
   "outputs": [
    {
     "name": "stdout",
     "output_type": "stream",
     "text": [
      "Found 1501 images belonging to 3 classes.\n",
      "Epoch 1/10\n",
      "46/46 [==============================] - 20s 422ms/step - loss: 0.9514 - accuracy: 0.5507\n",
      "Epoch 2/10\n",
      "46/46 [==============================] - 19s 416ms/step - loss: 0.4419 - accuracy: 0.8536\n",
      "Epoch 3/10\n",
      "46/46 [==============================] - 19s 406ms/step - loss: 0.1714 - accuracy: 0.9394\n",
      "Epoch 4/10\n",
      "46/46 [==============================] - 19s 408ms/step - loss: 0.1129 - accuracy: 0.9619\n",
      "Epoch 5/10\n",
      "46/46 [==============================] - 19s 414ms/step - loss: 0.0402 - accuracy: 0.9864\n",
      "Epoch 6/10\n",
      "46/46 [==============================] - 19s 405ms/step - loss: 0.1439 - accuracy: 0.9503\n",
      "Epoch 7/10\n",
      "46/46 [==============================] - 19s 405ms/step - loss: 0.0386 - accuracy: 0.9857\n",
      "Epoch 8/10\n",
      "46/46 [==============================] - 19s 406ms/step - loss: 0.0764 - accuracy: 0.9748\n",
      "Epoch 9/10\n",
      "46/46 [==============================] - 18s 400ms/step - loss: 0.0196 - accuracy: 0.9932\n",
      "Epoch 10/10\n",
      "46/46 [==============================] - 18s 400ms/step - loss: 0.0170 - accuracy: 0.9918\n"
     ]
    }
   ],
   "source": [
    "import tensorflow as tf\n",
    "from tensorflow.keras.preprocessing.image import ImageDataGenerator\n",
    "from tensorflow.keras.models import Sequential\n",
    "from tensorflow.keras.layers import Conv2D, MaxPooling2D, Flatten, Dense\n",
    "\n",
    "# Define data generators for training\n",
    "train_datagen = ImageDataGenerator(rescale=1./255)\n",
    "\n",
    "train_generator = train_datagen.flow_from_directory(\n",
    "    'mango',  # Path to the directory containing training images\n",
    "    target_size=(150, 150),  # Resize images to 150x150\n",
    "    batch_size=32,\n",
    "    class_mode='categorical'  # Because we have multiple classes\n",
    ")\n",
    "\n",
    "# Build the CNN model\n",
    "model = Sequential([\n",
    "    Conv2D(32, (3, 3), activation='relu', input_shape=(150, 150, 3)),\n",
    "    MaxPooling2D((2, 2)),\n",
    "    Conv2D(64, (3, 3), activation='relu'),\n",
    "    MaxPooling2D((2, 2)),\n",
    "    Conv2D(128, (3, 3), activation='relu'),\n",
    "    MaxPooling2D((2, 2)),\n",
    "    Conv2D(128, (3, 3), activation='relu'),\n",
    "    MaxPooling2D((2, 2)),\n",
    "    Flatten(),\n",
    "    Dense(512, activation='relu'),\n",
    "    Dense(3, activation='softmax')  # Assuming you have 3 classes/diseases\n",
    "])\n",
    "\n",
    "# Compile the model\n",
    "model.compile(optimizer='adam',\n",
    "              loss='categorical_crossentropy',\n",
    "              metrics=['accuracy'])\n",
    "\n",
    "# Train the model\n",
    "history = model.fit(\n",
    "    train_generator,\n",
    "    steps_per_epoch=train_generator.samples // train_generator.batch_size,\n",
    "    epochs=10\n",
    ")\n",
    "\n",
    "# Save the model\n",
    "model.save('mango_model.keras')\n"
   ]
  },
  {
   "cell_type": "code",
   "execution_count": 18,
   "id": "7af6e17b-20a5-4c02-a9e8-c4ff585b95f0",
   "metadata": {},
   "outputs": [
    {
     "name": "stdout",
     "output_type": "stream",
     "text": [
      "1/1 [==============================] - 0s 52ms/step\n",
      "Predicted class: Healthy\n"
     ]
    }
   ],
   "source": [
    "import numpy as np\n",
    "from tensorflow.keras.models import load_model\n",
    "from tensorflow.keras.preprocessing import image\n",
    "\n",
    "# Load the trained model\n",
    "model = load_model('mango_model.keras')\n",
    "\n",
    "# Load and preprocess the image\n",
    "img_path = 'images (1).jpeg'\n",
    "img = image.load_img(img_path, target_size=(150, 150))\n",
    "img_array = image.img_to_array(img)\n",
    "img_array = np.expand_dims(img_array, axis=0) / 255.\n",
    "\n",
    "# Make predictions\n",
    "predictions = model.predict(img_array)\n",
    "\n",
    "# Get the class with highest probability\n",
    "predicted_class = np.argmax(predictions)\n",
    "\n",
    "# Get the class labels from the generators\n",
    "class_labels = list(train_generator.class_indices.keys())\n",
    "\n",
    "# Print the predicted class\n",
    "print(\"Predicted class:\", class_labels[predicted_class])\n"
   ]
  },
  {
   "cell_type": "code",
   "execution_count": null,
   "id": "f66988a3-8b7b-43a2-bf71-effb185f4799",
   "metadata": {},
   "outputs": [],
   "source": []
  }
 ],
 "metadata": {
  "kernelspec": {
   "display_name": "Python 3 (ipykernel)",
   "language": "python",
   "name": "python3"
  },
  "language_info": {
   "codemirror_mode": {
    "name": "ipython",
    "version": 3
   },
   "file_extension": ".py",
   "mimetype": "text/x-python",
   "name": "python",
   "nbconvert_exporter": "python",
   "pygments_lexer": "ipython3",
   "version": "3.10.12"
  }
 },
 "nbformat": 4,
 "nbformat_minor": 5
}
