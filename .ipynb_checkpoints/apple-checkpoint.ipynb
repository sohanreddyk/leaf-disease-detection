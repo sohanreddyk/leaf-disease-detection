{
 "cells": [
  {
   "cell_type": "code",
   "execution_count": 3,
   "id": "a28f66f4-5e31-4c8e-9f5c-c6a8e8dc103e",
   "metadata": {},
   "outputs": [
    {
     "name": "stdout",
     "output_type": "stream",
     "text": [
      "Found 2897 images belonging to 3 classes.\n",
      "Epoch 1/10\n",
      "90/90 [==============================] - 75s 805ms/step - loss: 0.5969 - accuracy: 0.7574\n",
      "Epoch 2/10\n",
      "90/90 [==============================] - 53s 583ms/step - loss: 0.2720 - accuracy: 0.8977\n",
      "Epoch 3/10\n",
      "90/90 [==============================] - 38s 421ms/step - loss: 0.2199 - accuracy: 0.9204\n",
      "Epoch 4/10\n",
      "90/90 [==============================] - 38s 426ms/step - loss: 0.1706 - accuracy: 0.9435\n",
      "Epoch 5/10\n",
      "90/90 [==============================] - 41s 458ms/step - loss: 0.1590 - accuracy: 0.9435\n",
      "Epoch 6/10\n",
      "90/90 [==============================] - 38s 418ms/step - loss: 0.1435 - accuracy: 0.9442\n",
      "Epoch 7/10\n",
      "90/90 [==============================] - 40s 446ms/step - loss: 0.1250 - accuracy: 0.9564\n",
      "Epoch 8/10\n",
      "90/90 [==============================] - 41s 450ms/step - loss: 0.1181 - accuracy: 0.9525\n",
      "Epoch 9/10\n",
      "90/90 [==============================] - 37s 406ms/step - loss: 0.0895 - accuracy: 0.9693\n",
      "Epoch 10/10\n",
      "90/90 [==============================] - 35s 385ms/step - loss: 0.0926 - accuracy: 0.9679\n"
     ]
    }
   ],
   "source": [
    "import tensorflow as tf\n",
    "from tensorflow.keras.preprocessing.image import ImageDataGenerator\n",
    "from tensorflow.keras.models import Sequential\n",
    "from tensorflow.keras.layers import Conv2D, MaxPooling2D, Flatten, Dense\n",
    "\n",
    "# Define data generators for training\n",
    "train_datagen = ImageDataGenerator(rescale=1./255)\n",
    "\n",
    "train_generator = train_datagen.flow_from_directory(\n",
    "    'data',  # Path to the directory containing training images\n",
    "    target_size=(150, 150),  # Resize images to 150x150\n",
    "    batch_size=32,\n",
    "    class_mode='categorical'  # Because we have multiple classes\n",
    ")\n",
    "\n",
    "# Build the CNN model\n",
    "model = Sequential([\n",
    "    Conv2D(32, (3, 3), activation='relu', input_shape=(150, 150, 3)),\n",
    "    MaxPooling2D((2, 2)),\n",
    "    Conv2D(64, (3, 3), activation='relu'),\n",
    "    MaxPooling2D((2, 2)),\n",
    "    Conv2D(128, (3, 3), activation='relu'),\n",
    "    MaxPooling2D((2, 2)),\n",
    "    Conv2D(128, (3, 3), activation='relu'),\n",
    "    MaxPooling2D((2, 2)),\n",
    "    Flatten(),\n",
    "    Dense(512, activation='relu'),\n",
    "    Dense(3, activation='softmax')  # Assuming you have 3 classes/diseases\n",
    "])\n",
    "\n",
    "# Compile the model\n",
    "model.compile(optimizer='adam',\n",
    "              loss='categorical_crossentropy',\n",
    "              metrics=['accuracy'])\n",
    "\n",
    "# Train the model\n",
    "history = model.fit(\n",
    "    train_generator,\n",
    "    steps_per_epoch=train_generator.samples // train_generator.batch_size,\n",
    "    epochs=10\n",
    ")\n",
    "\n",
    "# Save the model\n",
    "model.save('leaf_model.keras')\n"
   ]
  },
  {
   "cell_type": "code",
   "execution_count": 5,
   "id": "d5ff9ef5-5ae8-432c-b7de-cd9b8ac7725d",
   "metadata": {},
   "outputs": [
    {
     "name": "stdout",
     "output_type": "stream",
     "text": [
      "1/1 [==============================] - 0s 48ms/step\n",
      "Predicted class: Apple___Black_rot\n"
     ]
    }
   ],
   "source": [
    "import numpy as np\n",
    "from tensorflow.keras.models import load_model\n",
    "from tensorflow.keras.preprocessing import image\n",
    "\n",
    "# Load the trained model\n",
    "model = load_model('leaf_model.keras')\n",
    "\n",
    "# Load and preprocess the image\n",
    "img_path = 'whitenigga.jpg'\n",
    "img = image.load_img(img_path, target_size=(150, 150))\n",
    "img_array = image.img_to_array(img)\n",
    "img_array = np.expand_dims(img_array, axis=0) / 255.\n",
    "\n",
    "# Make predictions\n",
    "predictions = model.predict(img_array)\n",
    "\n",
    "# Get the class with highest probability\n",
    "predicted_class = np.argmax(predictions)\n",
    "\n",
    "# Get the class labels from the generators\n",
    "class_labels = list(train_generator.class_indices.keys())\n",
    "\n",
    "# Print the predicted class\n",
    "print(\"Predicted class:\", class_labels[predicted_class])\n"
   ]
  },
  {
   "cell_type": "code",
   "execution_count": 6,
   "id": "963808c6-88e2-4c7d-9306-63cf34128455",
   "metadata": {},
   "outputs": [
    {
     "name": "stdout",
     "output_type": "stream",
     "text": [
      "1/1 [==============================] - 0s 59ms/step\n",
      "Predicted class: Apple___Black_rot\n"
     ]
    }
   ],
   "source": [
    "import numpy as np\n",
    "from tensorflow.keras.models import load_model\n",
    "from tensorflow.keras.preprocessing import image\n",
    "\n",
    "# Load the trained model\n",
    "model = load_model('leaf_model.keras')\n",
    "\n",
    "# Load and preprocess the image\n",
    "img_path = 'whitenigga.jpg'\n",
    "img = image.load_img(img_path, target_size=(150, 150))\n",
    "img_array = image.img_to_array(img)\n",
    "img_array = np.expand_dims(img_array, axis=0) / 255.\n",
    "\n",
    "# Make predictions\n",
    "predictions = model.predict(img_array)\n",
    "\n",
    "# Get the class with highest probability\n",
    "predicted_class = np.argmax(predictions)\n",
    "\n",
    "# Get the class labels from the generators\n",
    "class_labels = list(train_generator.class_indices.keys())\n",
    "\n",
    "# Print the predicted class\n",
    "print(\"Predicted class:\", class_labels[predicted_class])\n"
   ]
  },
  {
   "cell_type": "code",
   "execution_count": 7,
   "id": "4dd74959-1f28-4505-9538-f9c14310c118",
   "metadata": {},
   "outputs": [
    {
     "name": "stdout",
     "output_type": "stream",
     "text": [
      "1/1 [==============================] - 0s 54ms/step\n",
      "Predicted class: Apple___healthy\n"
     ]
    }
   ],
   "source": [
    "import numpy as np\n",
    "from tensorflow.keras.models import load_model\n",
    "from tensorflow.keras.preprocessing import image\n",
    "\n",
    "# Load the trained model\n",
    "model = load_model('leaf_model.keras')\n",
    "\n",
    "# Load and preprocess the image\n",
    "img_path = 'download.jpeg'\n",
    "img = image.load_img(img_path, target_size=(150, 150))\n",
    "img_array = image.img_to_array(img)\n",
    "img_array = np.expand_dims(img_array, axis=0) / 255.\n",
    "\n",
    "# Make predictions\n",
    "predictions = model.predict(img_array)\n",
    "\n",
    "# Get the class with highest probability\n",
    "predicted_class = np.argmax(predictions)\n",
    "\n",
    "# Get the class labels from the generators\n",
    "class_labels = list(train_generator.class_indices.keys())\n",
    "\n",
    "# Print the predicted class\n",
    "print(\"Predicted class:\", class_labels[predicted_class])\n"
   ]
  },
  {
   "cell_type": "code",
   "execution_count": 8,
   "id": "ad1b3107-b5a4-4010-8479-0d75aa5a6c01",
   "metadata": {},
   "outputs": [
    {
     "name": "stdout",
     "output_type": "stream",
     "text": [
      "WARNING:tensorflow:5 out of the last 5 calls to <function Model.make_predict_function.<locals>.predict_function at 0x7f1cc0359900> triggered tf.function retracing. Tracing is expensive and the excessive number of tracings could be due to (1) creating @tf.function repeatedly in a loop, (2) passing tensors with different shapes, (3) passing Python objects instead of tensors. For (1), please define your @tf.function outside of the loop. For (2), @tf.function has reduce_retracing=True option that can avoid unnecessary retracing. For (3), please refer to https://www.tensorflow.org/guide/function#controlling_retracing and https://www.tensorflow.org/api_docs/python/tf/function for  more details.\n",
      "1/1 [==============================] - 0s 52ms/step\n",
      "Predicted class: Apple___Black_rot\n"
     ]
    }
   ],
   "source": [
    "import numpy as np\n",
    "from tensorflow.keras.models import load_model\n",
    "from tensorflow.keras.preprocessing import image\n",
    "\n",
    "# Load the trained model\n",
    "model = load_model('leaf_model.keras')\n",
    "\n",
    "# Load and preprocess the image\n",
    "img_path = 'image2.png'\n",
    "img = image.load_img(img_path, target_size=(150, 150))\n",
    "img_array = image.img_to_array(img)\n",
    "img_array = np.expand_dims(img_array, axis=0) / 255.\n",
    "\n",
    "# Make predictions\n",
    "predictions = model.predict(img_array)\n",
    "\n",
    "# Get the class with highest probability\n",
    "predicted_class = np.argmax(predictions)\n",
    "\n",
    "# Get the class labels from the generators\n",
    "class_labels = list(train_generator.class_indices.keys())\n",
    "\n",
    "# Print the predicted class\n",
    "print(\"Predicted class:\", class_labels[predicted_class])\n"
   ]
  },
  {
   "cell_type": "code",
   "execution_count": 9,
   "id": "f25cac0d-52d3-4d42-81fb-5b916406ff9d",
   "metadata": {},
   "outputs": [
    {
     "name": "stdout",
     "output_type": "stream",
     "text": [
      "WARNING:tensorflow:6 out of the last 6 calls to <function Model.make_predict_function.<locals>.predict_function at 0x7f1ce02c3e20> triggered tf.function retracing. Tracing is expensive and the excessive number of tracings could be due to (1) creating @tf.function repeatedly in a loop, (2) passing tensors with different shapes, (3) passing Python objects instead of tensors. For (1), please define your @tf.function outside of the loop. For (2), @tf.function has reduce_retracing=True option that can avoid unnecessary retracing. For (3), please refer to https://www.tensorflow.org/guide/function#controlling_retracing and https://www.tensorflow.org/api_docs/python/tf/function for  more details.\n",
      "1/1 [==============================] - 0s 52ms/step\n",
      "Predicted class: Apple___Black_rot\n"
     ]
    }
   ],
   "source": [
    "import numpy as np\n",
    "from tensorflow.keras.models import load_model\n",
    "from tensorflow.keras.preprocessing import image\n",
    "\n",
    "# Load the trained model\n",
    "model = load_model('leaf_model.keras')\n",
    "\n",
    "# Load and preprocess the image\n",
    "img_path = 'images.jpeg'\n",
    "img = image.load_img(img_path, target_size=(150, 150))\n",
    "img_array = image.img_to_array(img)\n",
    "img_array = np.expand_dims(img_array, axis=0) / 255.\n",
    "\n",
    "# Make predictions\n",
    "predictions = model.predict(img_array)\n",
    "\n",
    "# Get the class with highest probability\n",
    "predicted_class = np.argmax(predictions)\n",
    "\n",
    "# Get the class labels from the generators\n",
    "class_labels = list(train_generator.class_indices.keys())\n",
    "\n",
    "# Print the predicted class\n",
    "print(\"Predicted class:\", class_labels[predicted_class])\n"
   ]
  },
  {
   "cell_type": "code",
   "execution_count": 10,
   "id": "4e0c4d20-7bbd-4e0b-92fc-60793c039372",
   "metadata": {},
   "outputs": [
    {
     "name": "stdout",
     "output_type": "stream",
     "text": [
      "1/1 [==============================] - 0s 50ms/step\n",
      "Predicted class: Apple___Apple_scab\n"
     ]
    }
   ],
   "source": [
    "import numpy as np\n",
    "from tensorflow.keras.models import load_model\n",
    "from tensorflow.keras.preprocessing import image\n",
    "\n",
    "# Load the trained model\n",
    "model = load_model('leaf_model.keras')\n",
    "\n",
    "# Load and preprocess the image\n",
    "img_path = 'download.jpeg'\n",
    "img = image.load_img(img_path, target_size=(150, 150))\n",
    "img_array = image.img_to_array(img)\n",
    "img_array = np.expand_dims(img_array, axis=0) / 255.\n",
    "\n",
    "# Make predictions\n",
    "predictions = model.predict(img_array)\n",
    "\n",
    "# Get the class with highest probability\n",
    "predicted_class = np.argmax(predictions)\n",
    "\n",
    "# Get the class labels from the generators\n",
    "class_labels = list(train_generator.class_indices.keys())\n",
    "\n",
    "# Print the predicted class\n",
    "print(\"Predicted class:\", class_labels[predicted_class])\n"
   ]
  },
  {
   "cell_type": "code",
   "execution_count": 11,
   "id": "1561af5a-1780-4be4-8c6c-450282ee2de4",
   "metadata": {},
   "outputs": [
    {
     "name": "stdout",
     "output_type": "stream",
     "text": [
      "1/1 [==============================] - 0s 51ms/step\n",
      "Predicted class: Apple___Apple_scab\n"
     ]
    }
   ],
   "source": [
    "import numpy as np\n",
    "from tensorflow.keras.models import load_model\n",
    "from tensorflow.keras.preprocessing import image\n",
    "\n",
    "# Load the trained model\n",
    "model = load_model('leaf_model.keras')\n",
    "\n",
    "# Load and preprocess the image\n",
    "img_path = 'download.jpeg'\n",
    "img = image.load_img(img_path, target_size=(150, 150))\n",
    "img_array = image.img_to_array(img)\n",
    "img_array = np.expand_dims(img_array, axis=0) / 255.\n",
    "\n",
    "# Make predictions\n",
    "predictions = model.predict(img_array)\n",
    "\n",
    "# Get the class with highest probability\n",
    "predicted_class = np.argmax(predictions)\n",
    "\n",
    "# Get the class labels from the generators\n",
    "class_labels = list(train_generator.class_indices.keys())\n",
    "\n",
    "# Print the predicted class\n",
    "print(\"Predicted class:\", class_labels[predicted_class])\n"
   ]
  },
  {
   "cell_type": "code",
   "execution_count": 12,
   "id": "38ff259f-0f96-4f82-b832-188b2c37cb17",
   "metadata": {},
   "outputs": [
    {
     "name": "stdout",
     "output_type": "stream",
     "text": [
      "1/1 [==============================] - 0s 50ms/step\n",
      "Predicted class: Apple___Apple_scab\n"
     ]
    }
   ],
   "source": [
    "import numpy as np\n",
    "from tensorflow.keras.models import load_model\n",
    "from tensorflow.keras.preprocessing import image\n",
    "\n",
    "# Load the trained model\n",
    "model = load_model('leaf_model.keras')\n",
    "\n",
    "# Load and preprocess the image\n",
    "img_path = 'download.jpeg'\n",
    "img = image.load_img(img_path, target_size=(150, 150))\n",
    "img_array = image.img_to_array(img)\n",
    "img_array = np.expand_dims(img_array, axis=0) / 255.\n",
    "\n",
    "# Make predictions\n",
    "predictions = model.predict(img_array)\n",
    "\n",
    "# Get the class with highest probability\n",
    "predicted_class = np.argmax(predictions)\n",
    "\n",
    "# Get the class labels from the generators\n",
    "class_labels = list(train_generator.class_indices.keys())\n",
    "\n",
    "# Print the predicted class\n",
    "print(\"Predicted class:\", class_labels[predicted_class])\n"
   ]
  },
  {
   "cell_type": "code",
   "execution_count": 13,
   "id": "59d24b7c-f4e0-4eb0-9664-6eb3fee26dab",
   "metadata": {},
   "outputs": [
    {
     "name": "stdout",
     "output_type": "stream",
     "text": [
      "1/1 [==============================] - 0s 51ms/step\n",
      "Predicted class: Apple___healthy\n"
     ]
    }
   ],
   "source": [
    "import numpy as np\n",
    "from tensorflow.keras.models import load_model\n",
    "from tensorflow.keras.preprocessing import image\n",
    "\n",
    "# Load the trained model\n",
    "model = load_model('leaf_model.keras')\n",
    "\n",
    "# Load and preprocess the image\n",
    "img_path = 'apple-tree-leaf1.webp'\n",
    "img = image.load_img(img_path, target_size=(150, 150))\n",
    "img_array = image.img_to_array(img)\n",
    "img_array = np.expand_dims(img_array, axis=0) / 255.\n",
    "\n",
    "# Make predictions\n",
    "predictions = model.predict(img_array)\n",
    "\n",
    "# Get the class with highest probability\n",
    "predicted_class = np.argmax(predictions)\n",
    "\n",
    "# Get the class labels from the generators\n",
    "class_labels = list(train_generator.class_indices.keys())\n",
    "\n",
    "# Print the predicted class\n",
    "print(\"Predicted class:\", class_labels[predicted_class])\n"
   ]
  },
  {
   "cell_type": "code",
   "execution_count": 14,
   "id": "85672ddc-544e-4140-95b3-e2288d31c295",
   "metadata": {},
   "outputs": [
    {
     "name": "stdout",
     "output_type": "stream",
     "text": [
      "1/1 [==============================] - 0s 50ms/step\n",
      "Predicted class: Apple___Apple_scab\n"
     ]
    }
   ],
   "source": [
    "import numpy as np\n",
    "from tensorflow.keras.models import load_model\n",
    "from tensorflow.keras.preprocessing import image\n",
    "\n",
    "# Load the trained model\n",
    "model = load_model('leaf_model.keras')\n",
    "\n",
    "# Load and preprocess the image\n",
    "img_path = 'download.jpeg'\n",
    "img = image.load_img(img_path, target_size=(150, 150))\n",
    "img_array = image.img_to_array(img)\n",
    "img_array = np.expand_dims(img_array, axis=0) / 255.\n",
    "\n",
    "# Make predictions\n",
    "predictions = model.predict(img_array)\n",
    "\n",
    "# Get the class with highest probability\n",
    "predicted_class = np.argmax(predictions)\n",
    "\n",
    "# Get the class labels from the generators\n",
    "class_labels = list(train_generator.class_indices.keys())\n",
    "\n",
    "# Print the predicted class\n",
    "print(\"Predicted class:\", class_labels[predicted_class])\n"
   ]
  },
  {
   "cell_type": "code",
   "execution_count": null,
   "id": "15def018-7aba-4c9b-8f8c-649d26213094",
   "metadata": {},
   "outputs": [],
   "source": []
  }
 ],
 "metadata": {
  "kernelspec": {
   "display_name": "Python 3 (ipykernel)",
   "language": "python",
   "name": "python3"
  },
  "language_info": {
   "codemirror_mode": {
    "name": "ipython",
    "version": 3
   },
   "file_extension": ".py",
   "mimetype": "text/x-python",
   "name": "python",
   "nbconvert_exporter": "python",
   "pygments_lexer": "ipython3",
   "version": "3.10.12"
  }
 },
 "nbformat": 4,
 "nbformat_minor": 5
}
